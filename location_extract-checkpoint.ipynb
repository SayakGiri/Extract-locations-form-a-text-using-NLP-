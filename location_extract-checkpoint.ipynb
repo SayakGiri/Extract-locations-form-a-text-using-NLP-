{
 "cells": [
  {
   "cell_type": "code",
   "execution_count": 1,
   "metadata": {},
   "outputs": [],
   "source": [
    "import nltk\n",
    "from nltk.tokenize import word_tokenize,sent_tokenize\n",
    "from nltk.chunk import named_entity,ne_chunk"
   ]
  },
  {
   "cell_type": "code",
   "execution_count": 2,
   "metadata": {},
   "outputs": [],
   "source": [
    "doc=\"\"\"According to a media report, Mumbai has the highest density of cars in India. Pune is in second place. \n",
    "\n",
    "The density of private cars in Mumbai has gone up by 18% in 2 years. There are 510 cars per km of road as opposed to 430 cars per km in 2016. This is almost five times that of Delhi (108 cars per km). Despite having fewer cars than Delhi, Mumbai is more congested due to low road space. Mumbai has 2,000 km of roads compared to the national capital, which has 28,000 km of roadways.\n",
    "\n",
    "There are 10.2 lakh private cars in Mumbai. That is 28% of the total number of vehicles in the city, which stands at 36 lakh. According to RTO officials, the western suburbs have the highest number of registered cars (5 lakh). There are 3.3 lakh private cars in the island city and 1.7 lakh in the eastern suburbs.\n",
    "\n",
    "Pune has 359 cars per km and Kolkata is the third most congested city with 319 cars per km. Chennai comes in fourth with 297 cars per km followed by Bangalore with 149 cars per km.\"\"\""
   ]
  },
  {
   "cell_type": "code",
   "execution_count": 3,
   "metadata": {},
   "outputs": [],
   "source": [
    "words=word_tokenize(doc)\n",
    "pos=nltk.pos_tag(words)\n",
    "name=ne_chunk(pos)"
   ]
  },
  {
   "cell_type": "code",
   "execution_count": 4,
   "metadata": {},
   "outputs": [
    {
     "name": "stdout",
     "output_type": "stream",
     "text": [
      "  (PERSON Mumbai/NNP)\n",
      "  (GPE India/NNP)\n",
      "  Pune/NNP\n",
      "  (GPE Mumbai/NNP)\n",
      "  (GPE Delhi/NNP)\n",
      "  (PERSON Delhi/NNP)\n",
      "  (PERSON Mumbai/NNP)\n",
      "  (PERSON Mumbai/NNP)\n",
      "  (GPE Mumbai/NNP)\n",
      "  (ORGANIZATION RTO/NNP)\n",
      "  (PERSON Pune/NNP)\n",
      "  (PERSON Kolkata/NNP)\n",
      "  (PERSON Chennai/NNP)\n",
      "  (ORGANIZATION Bangalore/NNP)\n"
     ]
    }
   ],
   "source": [
    "loc=[]\n",
    "for na in str(name).split('\\n'):\n",
    "    if '/NNP'in na:\n",
    "        loc.append(na)\n",
    "        print(na)"
   ]
  },
  {
   "cell_type": "code",
   "execution_count": 5,
   "metadata": {},
   "outputs": [
    {
     "name": "stdout",
     "output_type": "stream",
     "text": [
      "['Mumbai/NNP']\n",
      "['India/NNP']\n",
      "['Pune/NNP']\n",
      "['Mumbai/NNP']\n",
      "['Delhi/NNP']\n",
      "['Delhi/NNP']\n",
      "['Mumbai/NNP']\n",
      "['Mumbai/NNP']\n",
      "['Mumbai/NNP']\n",
      "['RTO/NNP']\n",
      "['Pune/NNP']\n",
      "['Kolkata/NNP']\n",
      "['Chennai/NNP']\n",
      "['Bangalore/NNP']\n"
     ]
    }
   ],
   "source": [
    "import re \n",
    "i=0\n",
    "town=[]\n",
    "while i<len(loc): \n",
    "    pattern=r'\\w+/NNP'\n",
    "    s=re.findall(pattern,loc[i])\n",
    "    print(s)\n",
    "    if s not in town:\n",
    "        town.append(s)\n",
    "    i=i+1\n",
    "   \n",
    "\n"
   ]
  },
  {
   "cell_type": "code",
   "execution_count": 6,
   "metadata": {
    "scrolled": false
   },
   "outputs": [],
   "source": [
    "city=[]\n",
    "for l in town:\n",
    "    z=str(l)\n",
    "    w=z.split('/')\n",
    "    az=w[0]\n",
    "    rr=az[2:]\n",
    "    city.append(rr)"
   ]
  },
  {
   "cell_type": "code",
   "execution_count": 7,
   "metadata": {
    "scrolled": true
   },
   "outputs": [
    {
     "data": {
      "text/plain": [
       "['Mumbai', 'India', 'Pune', 'Delhi', 'RTO', 'Kolkata', 'Chennai', 'Bangalore']"
      ]
     },
     "execution_count": 7,
     "metadata": {},
     "output_type": "execute_result"
    }
   ],
   "source": [
    "city"
   ]
  },
  {
   "cell_type": "code",
   "execution_count": null,
   "metadata": {},
   "outputs": [],
   "source": []
  }
 ],
 "metadata": {
  "kernelspec": {
   "display_name": "Python 3",
   "language": "python",
   "name": "python3"
  },
  "language_info": {
   "codemirror_mode": {
    "name": "ipython",
    "version": 3
   },
   "file_extension": ".py",
   "mimetype": "text/x-python",
   "name": "python",
   "nbconvert_exporter": "python",
   "pygments_lexer": "ipython3",
   "version": "3.7.6"
  }
 },
 "nbformat": 4,
 "nbformat_minor": 2
}
